{
 "cells": [
  {
   "cell_type": "markdown",
   "metadata": {},
   "source": [
    "# This notebook will be mainly used for the capstone project"
   ]
  },
  {
   "cell_type": "code",
   "execution_count": 1,
   "metadata": {},
   "outputs": [
    {
     "name": "stdout",
     "output_type": "stream",
     "text": [
      "Hello Capstone Project Course!\n"
     ]
    }
   ],
   "source": [
    "import pandas as pd\n",
    "import numpy as np\n",
    "\n",
    "print(\"Hello Capstone Project Course!\")"
   ]
  },
  {
   "cell_type": "markdown",
   "metadata": {},
   "source": [
    "Client ID : VEEPPDQEPYTQR2Q2XGIC0ZMAFZAHINGPNUNC0KWMKKAXCDMF\n",
    "\n",
    "\n",
    "https://foursquare.com/oauth2/authenticate?client_id=VEEPPDQEPYTQR2Q2XGIC0ZMAFZAHINGPNUNC0KWMKKAXCDMF&response_type=code&redirect_uri=https://www.google.com\n",
    "\n"
   ]
  },
  {
   "cell_type": "markdown",
   "metadata": {},
   "source": [
    "https://foursquare.com/oauth2/access_token?client_id=YOUR_CLIENT_ID&client_secret=VEEPPDQEPYTQR2Q2XGIC0ZMAFZAHINGPNUNC0KWMKKAXCDMF&grant_type=authorization_code&redirect_uri=https://www.google.com&code=2Z2PPIOQLWCADFCHIM0HGLXMSH2Q0H3REJKPA33NPOECPSPL\n",
    "\n"
   ]
  }
 ],
 "metadata": {
  "kernelspec": {
   "display_name": "Python 3",
   "language": "python",
   "name": "python3"
  },
  "language_info": {
   "codemirror_mode": {
    "name": "ipython",
    "version": 3
   },
   "file_extension": ".py",
   "mimetype": "text/x-python",
   "name": "python",
   "nbconvert_exporter": "python",
   "pygments_lexer": "ipython3",
   "version": "3.6.9"
  }
 },
 "nbformat": 4,
 "nbformat_minor": 2
}
